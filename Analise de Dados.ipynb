{
 "cells": [
  {
   "cell_type": "code",
   "execution_count": null,
   "id": "df452269",
   "metadata": {},
   "outputs": [],
   "source": [
    "import pandas as pd\n",
    "#importando os arquivos\n",
    "vendas_df = pd.read_csv(r'Contoso - Vendas - 2017.csv', sep=';')\n",
    "produtos_df = pd.read_csv(r'Contoso - Cadastro Produtos.csv', sep=';')\n",
    "lojas_df = pd.read_csv(r'Contoso - Lojas.csv', sep=';')\n",
    "clientes_df = pd.read_csv(r'Contoso - Clientes.csv', sep=';')\n",
    "\n",
    "#limpando apenas as colunas que queremos\n",
    "clientes_df = clientes_df[['ID Cliente', 'E-mail']]\n",
    "produtos_df = produtos_df[['ID Produto', 'Nome do Produto']]\n",
    "lojas_df = lojas_df[['ID Loja', 'Nome da Loja']]\n",
    "\n",
    "#mesclando e renomeando os dataframes\n",
    "vendas_df = vendas_df.merge(produtos_df, on='ID Produto')\n",
    "vendas_df = vendas_df.merge(lojas_df, on='ID Loja')\n",
    "vendas_df = vendas_df.merge(clientes_df, on='ID Cliente').rename(columns={'E-mail': 'E-mail do Cliente'})\n",
    "display(vendas_df)"
   ]
  },
  {
   "cell_type": "code",
   "execution_count": null,
   "id": "4bbcff77",
   "metadata": {},
   "outputs": [],
   "source": [
    "#Qual cliente que comprou mais vezes?\n",
    "frequencia_clientes = vendas_df['E-mail do Cliente'].value_counts()\n",
    "display(frequencia_clientes)\n",
    "frequencia_clientes[:5].plot(figsize=(15, 5), yticks=range(1, 100, 5))"
   ]
  },
  {
   "cell_type": "code",
   "execution_count": null,
   "id": "479933c0",
   "metadata": {},
   "outputs": [],
   "source": [
    "#Qual a Loja que mais vendeu?\n",
    "vendas_lojas = vendas_df.groupby('Nome da Loja').sum()\n",
    "vendas_lojas = vendas_lojas[['Quantidade Vendida']]\n",
    "display(vendas_lojas)\n",
    "vendas_lojas.plot()"
   ]
  },
  {
   "cell_type": "code",
   "execution_count": null,
   "id": "2913a855",
   "metadata": {},
   "outputs": [],
   "source": [
    "#ordenando o dataframe\n",
    "vendas_lojas = vendas_lojas.sort_values('Quantidade Vendida', ascending=False)\n",
    "display(vendas_lojas)\n",
    "\n",
    "#podemos plotar em um gráfico de barras\n",
    "vendas_lojas[:5].plot(figsize=(15, 5), kind='bar')"
   ]
  },
  {
   "cell_type": "code",
   "execution_count": null,
   "id": "2031026a",
   "metadata": {},
   "outputs": [],
   "source": [
    "#Qual produto que menos vendeu?\n",
    "\n",
    "# Maneira 1\n",
    "menor_valor = vendas_lojas['Quantidade Vendida'].min()\n",
    "pior_loja = vendas_lojas['Quantidade Vendida'].idxmin()\n",
    "print(pior_loja, menor_valor)\n",
    "\n",
    "# Maneira 2\n",
    "vendas_lojas[-1:]\n"
   ]
  },
  {
   "cell_type": "code",
   "execution_count": null,
   "id": "b3701787",
   "metadata": {},
   "outputs": [],
   "source": [
    "#Qual produto mais vendeu?\n",
    "\n",
    "# Maneira 1\n",
    "maior_valor = vendas_lojas['Quantidade Vendida'].max()\n",
    "melhor_loja = vendas_lojas['Quantidade Vendida'].idxmax()\n",
    "print(melhor_loja, maior_valor)\n",
    "\n",
    "# Maneira 2\n",
    "vendas_lojas[:1]"
   ]
  },
  {
   "cell_type": "code",
   "execution_count": null,
   "id": "a224a77e",
   "metadata": {},
   "outputs": [],
   "source": [
    "#Qual o % das vendas que foi devolvido?\n",
    "\n",
    "#Para a loja Contoso Europe Online - ID Loja 306\n",
    "qtde_vendida = vendas_df['Quantidade Vendida'].sum()\n",
    "qtde_devolvida = vendas_df['Quantidade Devolvida'].sum()\n",
    "print(qtde_vendida)\n",
    "print(qtde_devolvida)\n",
    "print('{:.2%}'.format(qtde_devolvida / qtde_vendida))\n",
    "\n"
   ]
  },
  {
   "cell_type": "code",
   "execution_count": null,
   "id": "e48aef15",
   "metadata": {},
   "outputs": [],
   "source": [
    "#Vamos filtrar apenas os itens de uma loja específica e saber o % de devolução dessa loja.\n",
    "\n",
    "vendas_lojaEuropeOnline = vendas_df[vendas_df['ID Loja'] == 306]\n",
    "display(vendas_lojaEuropeOnline)\n",
    "\n",
    "qtde_vendida = vendas_lojaEuropeOnline['Quantidade Vendida'].sum()\n",
    "qtde_devolvida = vendas_lojaEuropeOnline['Quantidade Devolvida'].sum()\n",
    "\n",
    "print('{:.2%}'.format(qtde_devolvida / qtde_vendida))\n",
    "\n",
    "#Para uma loja que o usuário escolha:\n",
    "loja = int(input('Digite o ID da loja que deseja consultar: '))\n",
    "\n",
    "loja_escolhida = vendas_df['ID Loja'] == loja\n",
    "vendas_loja_escolhida = vendas_df[loja_escolhida]\n",
    "#display(vendas_loja_escolhida)\n",
    "print(loja_escolhida)\n",
    "\n",
    "#Outra maneira\n",
    "#vendas_lojaEuropeOnline = vendas_df[vendas_df['ID Loja'] == 306]\n",
    "\n",
    "#loja306 = vendas_df['ID Loja'] == 306\n",
    "#vendas_lojaEuropeOnline = vendas_df[loja306]\n",
    "#display(vendas_lojaEuropeOnline)"
   ]
  },
  {
   "cell_type": "code",
   "execution_count": null,
   "id": "6299815b",
   "metadata": {},
   "outputs": [],
   "source": [
    "#criar uma tabela apenas com as vendas da Loja Contoso Europe Online e que não tiveram nenhuma devolução\n",
    "#Exibir a tabela e mostrar quantas vendas são.\n",
    "\n",
    "#tudo junto\n",
    "df_loja306semdev = vendas_df[(vendas_df['ID Loja'] == 306) & (vendas_df['Quantidade Devolvida'] == 0)]\n",
    "display(df_loja306semdev)\n",
    "\n",
    "#separado\n",
    "loja306 = vendas_df['ID Loja'] == 306\n",
    "qtde_devolvida_0 = vendas_df['Quantidade Devolvida'] == 0\n",
    "df2_loja306semdev = vendas_df[loja306 & qtde_devolvida_0]\n",
    "display(df2_loja306semdev)\n",
    "\n",
    "#maneira Yara\n",
    "loja_sem_dev = vendas_loja_escolhida[\"Quantidade Devolvida\"] == 0\n",
    "loja_escolhida_sem_dev = vendas_loja_escolhida[loja_sem_dev]\n",
    "display(loja_escolhida_sem_dev)"
   ]
  }
 ],
 "metadata": {
  "kernelspec": {
   "display_name": "Python 3 (ipykernel)",
   "language": "python",
   "name": "python3"
  },
  "language_info": {
   "codemirror_mode": {
    "name": "ipython",
    "version": 3
   },
   "file_extension": ".py",
   "mimetype": "text/x-python",
   "name": "python",
   "nbconvert_exporter": "python",
   "pygments_lexer": "ipython3",
   "version": "3.9.13"
  }
 },
 "nbformat": 4,
 "nbformat_minor": 5
}
